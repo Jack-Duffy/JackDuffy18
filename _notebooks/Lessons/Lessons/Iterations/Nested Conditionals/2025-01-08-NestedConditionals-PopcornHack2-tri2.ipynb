{
 "cells": [
  {
   "cell_type": "raw",
   "metadata": {
    "vscode": {
     "languageId": "raw"
    }
   },
   "source": [
    "---\n",
    "layout: post\n",
    "title: Nested Conditionals, Popcorn Hack Two\n",
    "description:  Second popcorn hack for nested conditionals\n",
    "type: issues \n",
    "comments: true\n",
    "---"
   ]
  },
  {
   "cell_type": "markdown",
   "metadata": {},
   "source": [
    "### Popcorn Hack 2\n",
    "\n",
    "This code uses boolean to check if a person has the unlimited amusement food card. If they do, then they are allowed to buy any food that they want for free. Add code for another type of food and take into account whether or not the food is in stock."
   ]
  },
  {
   "cell_type": "code",
   "execution_count": 1,
   "metadata": {
    "vscode": {
     "languageId": "javascript"
    }
   },
   "outputs": [
    {
     "data": {
      "application/javascript": "<div id=\"message\"></div>\n\n    function runWhenDOMLoaded() {\n        let foodCard = true;\n        let money = 1;\n        let foodChoice = \"cotton candy\";\n        let foodStock = {\n            popcorn: true, // Indicates if popcorn is in stock\n            \"cotton candy\": true, // Indicates if cotton candy is in stock\n            \"hot dog\": false // Indicates if hot dogs are in stock\n        };\n\n        const messageElement = document.getElementById(\"message\");\n\n        function displayMessage(message) {\n            console.log(message); // Log to console\n            messageElement.textContent = message; // Display on the webpage\n        }\n\n        if (foodCard === true) {\n            if (foodChoice === \"popcorn\") { //Checks the food choice\n                if (foodStock.popcorn) { // Checks if the food is in stock\n                    displayMessage(\"Yum! The popcorn is tasty!\");\n                } else {\n                    displayMessage(\"Oh no! The popcorn is out of stock.\");\n                }\n            } else if (foodChoice === \"cotton candy\") {\n                if (foodStock[\"cotton candy\"]) { // Checks if the food is in stock\n                    displayMessage(\"Yum! The cotton candy is tasty!\");\n                } else {\n                    displayMessage(\"Oh no! The cotton candy is out of stock.\");\n                }\n            } else if (foodChoice === \"hot dog\") { // Use the previous code as examples to help make another food! \n                if (foodStock[\"hot dog\"]) { // Checks if the food is in stock\n                    displayMessage(\"Yum! The hot dog is tasty!\");\n                } else {\n                    displayMessage(\"Oh no! The hot dog is out of stock.\");\n                }\n            }\n        } else {\n            if (foodChoice === \"popcorn\") {\n                if (money >= 8) { // checks if you have enough money to buy\n                    if (foodStock.popcorn) { //Add another if statement to check if the food is in stock!\n                        displayMessage(\"Yay! You can buy the popcorn!\");\n                    } else {\n                        displayMessage(\"Oh no! The popcorn is out of stock.\");\n                    }\n                } else {\n                    displayMessage(\"Oh... you can't buy the popcorn.\");\n                }\n            } else if (foodChoice === \"cotton candy\") {\n                if (money >= 5) {\n                    if (foodStock[\"cotton candy\"]) { //Add another if statement to check if the food is in stock!\n                        displayMessage(\"Yay! You can buy the cotton candy!\");\n                    } else {\n                        displayMessage(\"Oh no! The cotton candy is out of stock.\");\n                    }\n                } else {\n                    displayMessage(\"Oh... you can't buy the cotton candy.\");\n                } //Add the other food and make sure to check if it is in stock!\n            } else if (foodChoice === \"hot dog\") {\n                if (money >= 6) { // Checks if you have enough money to buy\n                    if (foodStock[\"hot dog\"]) { // Checks if the food is in stock\n                        displayMessage(\"Yay! You can buy the hot dog!\");\n                    } else {\n                        displayMessage(\"Oh no! The hot dog is out of stock.\");\n                    }\n                } else {\n                    displayMessage(\"Oh... you can't buy the hot dog.\");\n                }\n            }\n        }\n    }\n\n    // Ensure the function runs only after the page loads\n    if (document.readyState === \"loading\") {\n        document.addEventListener(\"DOMContentLoaded\", runWhenDOMLoaded);\n    } else {\n        runWhenDOMLoaded();\n    }\n",
      "text/plain": [
       "<IPython.core.display.Javascript object>"
      ]
     },
     "metadata": {},
     "output_type": "display_data"
    }
   ],
   "source": [
    "%%js\n",
    "<div id=\"message\"></div>\n",
    "\n",
    "    function runWhenDOMLoaded() {\n",
    "        let foodCard = true;\n",
    "        let money = 1;\n",
    "        let foodChoice = \"cotton candy\";\n",
    "        let foodStock = {\n",
    "            popcorn: true, // Indicates if popcorn is in stock\n",
    "            \"cotton candy\": true, // Indicates if cotton candy is in stock\n",
    "            \"hot dog\": false // Indicates if hot dogs are in stock\n",
    "        };\n",
    "\n",
    "        const messageElement = document.getElementById(\"message\");\n",
    "\n",
    "        function displayMessage(message) {\n",
    "            console.log(message); // Log to console\n",
    "            messageElement.textContent = message; // Display on the webpage\n",
    "        }\n",
    "\n",
    "        if (foodCard === true) {\n",
    "            if (foodChoice === \"popcorn\") { //Checks the food choice\n",
    "                if (foodStock.popcorn) { // Checks if the food is in stock\n",
    "                    displayMessage(\"Yum! The popcorn is tasty!\");\n",
    "                } else {\n",
    "                    displayMessage(\"Oh no! The popcorn is out of stock.\");\n",
    "                }\n",
    "            } else if (foodChoice === \"cotton candy\") {\n",
    "                if (foodStock[\"cotton candy\"]) { // Checks if the food is in stock\n",
    "                    displayMessage(\"Yum! The cotton candy is tasty!\");\n",
    "                } else {\n",
    "                    displayMessage(\"Oh no! The cotton candy is out of stock.\");\n",
    "                }\n",
    "            } else if (foodChoice === \"hot dog\") { // Use the previous code as examples to help make another food! \n",
    "                if (foodStock[\"hot dog\"]) { // Checks if the food is in stock\n",
    "                    displayMessage(\"Yum! The hot dog is tasty!\");\n",
    "                } else {\n",
    "                    displayMessage(\"Oh no! The hot dog is out of stock.\");\n",
    "                }\n",
    "            }\n",
    "        } else {\n",
    "            if (foodChoice === \"popcorn\") {\n",
    "                if (money >= 8) { // checks if you have enough money to buy\n",
    "                    if (foodStock.popcorn) { //Add another if statement to check if the food is in stock!\n",
    "                        displayMessage(\"Yay! You can buy the popcorn!\");\n",
    "                    } else {\n",
    "                        displayMessage(\"Oh no! The popcorn is out of stock.\");\n",
    "                    }\n",
    "                } else {\n",
    "                    displayMessage(\"Oh... you can't buy the popcorn.\");\n",
    "                }\n",
    "            } else if (foodChoice === \"cotton candy\") {\n",
    "                if (money >= 5) {\n",
    "                    if (foodStock[\"cotton candy\"]) { //Add another if statement to check if the food is in stock!\n",
    "                        displayMessage(\"Yay! You can buy the cotton candy!\");\n",
    "                    } else {\n",
    "                        displayMessage(\"Oh no! The cotton candy is out of stock.\");\n",
    "                    }\n",
    "                } else {\n",
    "                    displayMessage(\"Oh... you can't buy the cotton candy.\");\n",
    "                } //Add the other food and make sure to check if it is in stock!\n",
    "            } else if (foodChoice === \"hot dog\") {\n",
    "                if (money >= 6) { // Checks if you have enough money to buy\n",
    "                    if (foodStock[\"hot dog\"]) { // Checks if the food is in stock\n",
    "                        displayMessage(\"Yay! You can buy the hot dog!\");\n",
    "                    } else {\n",
    "                        displayMessage(\"Oh no! The hot dog is out of stock.\");\n",
    "                    }\n",
    "                } else {\n",
    "                    displayMessage(\"Oh... you can't buy the hot dog.\");\n",
    "                }\n",
    "            }\n",
    "        }\n",
    "    }\n",
    "\n",
    "    // Ensure the function runs only after the page loads\n",
    "    if (document.readyState === \"loading\") {\n",
    "        document.addEventListener(\"DOMContentLoaded\", runWhenDOMLoaded);\n",
    "    } else {\n",
    "        runWhenDOMLoaded();\n",
    "    }\n"
   ]
  }
 ],
 "metadata": {
  "kernelspec": {
   "display_name": "Python 3",
   "language": "python",
   "name": "python3"
  },
  "language_info": {
   "codemirror_mode": {
    "name": "ipython",
    "version": 3
   },
   "file_extension": ".py",
   "mimetype": "text/x-python",
   "name": "python",
   "nbconvert_exporter": "python",
   "pygments_lexer": "ipython3",
   "version": "3.12.5"
  }
 },
 "nbformat": 4,
 "nbformat_minor": 2
}
