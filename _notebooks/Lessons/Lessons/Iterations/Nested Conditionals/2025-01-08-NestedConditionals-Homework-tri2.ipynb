{
 "cells": [
  {
   "cell_type": "raw",
   "metadata": {
    "vscode": {
     "languageId": "raw"
    }
   },
   "source": [
    "---\n",
    "layout: post\n",
    "title: Nested Conditionals, Homework\n",
    "description:  Homework for nested conditionals\n",
    "type: issues \n",
    "comments: true\n",
    "---"
   ]
  },
  {
   "cell_type": "markdown",
   "metadata": {},
   "source": [
    "### Homework Objectives\n",
    "\n",
    "You and your friend want to do different things at the amusement park. To decide, you do a coin flip. Heads means that you get to choose where to go and tails means that your friend gets to choose. If you go on a ride, be sure to check if you are the right height and have enough tickets, and if you go to a food stand, make sure that you have enough money and that the food is in stock. Be creative, and make sure to use nested conditionals!"
   ]
  },
  {
   "cell_type": "markdown",
   "metadata": {},
   "source": [
    "### Instructions\n",
    "\n",
    "1) Create a JavaScript file (Ex. insertName.js)\n",
    "\n",
    "2) Plan out what you will be doing and make variables for the necessary things. There will be a coin flip, so make a variable for that. If there are rides, make a value for the amount of tickets the person has and what height they are. If they go to a food stand, you can make a variable for the amount of money that you have and if the food is in stock.\n",
    "\n",
    "3) Use Math.random() for the coin flip. This generates a number between 0 and 1, so then you multiply this value by 2 and put it inside Math.floor() to round down and get either 0 or 1. Make this the coin flip variable.\n",
    "\n",
    "4) Use an if statement to check what the result of the coin flip was and use console.log to print out a statement to see who won or lost the coin flip. Along with that, print out where they are going next.\n",
    "\n",
    "5) Use more if statements inside of if statements to check if the person can do what they want to do. (Are they tall enough, do they have enough money, etc.)\n",
    "\n",
    "6) After all the checks, print out a result of what happened. If you get stuck, you can look at the examples in the popcorn hacks. Please don't copy and paste, though! \n"
   ]
  },
  {
   "cell_type": "code",
   "execution_count": 2,
   "metadata": {
    "vscode": {
     "languageId": "javascript"
    }
   },
   "outputs": [
    {
     "data": {
      "application/javascript": "let coinFlip; \nlet tickets = 50; \nlet height = 48; \nlet money = 20; \nlet foodInStock = true; \n\ncoinFlip = Math.floor(Math.random() * 2); \n\nif (coinFlip === 0) {\n    console.log(\"You lost the coin flip. You're heading to the Ferris Wheel.\");\n    \n    if (tickets >= 40 && height >= 36) {\n        tickets -= 40; \n        console.log(\"You were tall enough and had enough tickets to ride the Ferris Wheel. Enjoy!\");\n    } else {\n        console.log(\"You can't ride the Ferris Wheel. Either you're too short or don't have enough tickets.\");\n    }\n} else {\n    console.log(\"You won the coin flip! You're heading to the food stand.\");\n    \n    if (foodInStock && money >= 10) {\n        money -= 10; \n        console.log(\"You bought some food! Enjoy your snack!\");\n    } else if (!foodInStock) {\n        console.log(\"The food you want is out of stock. Sorry!\");\n    } else if (money < 10) {\n        console.log(\"You don't have enough money to buy food.\");\n    }\n}\n\nconsole.log(`Final status: Tickets left = ${tickets}, Money left = $${money}`);\n",
      "text/plain": [
       "<IPython.core.display.Javascript object>"
      ]
     },
     "metadata": {},
     "output_type": "display_data"
    }
   ],
   "source": [
    "%%js\n",
    "let coinFlip; \n",
    "let tickets = 50; \n",
    "let height = 48; \n",
    "let money = 20; \n",
    "let foodInStock = true; \n",
    "\n",
    "coinFlip = Math.floor(Math.random() * 2); \n",
    "\n",
    "if (coinFlip === 0) {\n",
    "    console.log(\"You lost the coin flip. You're heading to the Ferris Wheel.\");\n",
    "    \n",
    "    if (tickets >= 40 && height >= 36) {\n",
    "        tickets -= 40; \n",
    "        console.log(\"You were tall enough and had enough tickets to ride the Ferris Wheel. Enjoy!\");\n",
    "    } else {\n",
    "        console.log(\"You can't ride the Ferris Wheel. Either you're too short or don't have enough tickets.\");\n",
    "    }\n",
    "} else {\n",
    "    console.log(\"You won the coin flip! You're heading to the food stand.\");\n",
    "    \n",
    "    if (foodInStock && money >= 10) {\n",
    "        money -= 10; \n",
    "        console.log(\"You bought some food! Enjoy your snack!\");\n",
    "    } else if (!foodInStock) {\n",
    "        console.log(\"The food you want is out of stock. Sorry!\");\n",
    "    } else if (money < 10) {\n",
    "        console.log(\"You don't have enough money to buy food.\");\n",
    "    }\n",
    "}\n",
    "\n",
    "console.log(`Final status: Tickets left = ${tickets}, Money left = $${money}`);\n"
   ]
  }
 ],
 "metadata": {
  "kernelspec": {
   "display_name": "Python 3",
   "language": "python",
   "name": "python3"
  },
  "language_info": {
   "codemirror_mode": {
    "name": "ipython",
    "version": 3
   },
   "file_extension": ".py",
   "mimetype": "text/x-python",
   "name": "python",
   "nbconvert_exporter": "python",
   "pygments_lexer": "ipython3",
   "version": "3.12.5"
  }
 },
 "nbformat": 4,
 "nbformat_minor": 2
}
