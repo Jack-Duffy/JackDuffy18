{
 "cells": [
  {
   "cell_type": "markdown",
   "metadata": {},
   "source": [
    "```yaml\n",
    "\n",
    "---\n",
    "layout: page\n",
    "title: Popcorn Hacks One\n",
    "permalink: /phjupyter/\n",
    "---"
   ]
  },
  {
   "cell_type": "markdown",
   "metadata": {},
   "source": [
    "---\n",
    "Popcorn Hacks One\n",
    "---"
   ]
  },
  {
   "cell_type": "markdown",
   "metadata": {},
   "source": [
    " - Delete the last two items of the list below (delete1 and delete2)\n",
    " - Change the non dessert item (fries) to a dessert\n",
    " - Add two more desserts to list"
   ]
  },
  {
   "cell_type": "code",
   "execution_count": 4,
   "metadata": {
    "vscode": {
     "languageId": "javascript"
    }
   },
   "outputs": [
    {
     "data": {
      "application/javascript": "\nlet desserts = ['cake', 'ice cream', 'cookies', 'brownie', 'fudge', 'double chunk chocolate cookie']\n\nconsole.log(desserts.join(\", \"))\n",
      "text/plain": [
       "<IPython.core.display.Javascript object>"
      ]
     },
     "metadata": {},
     "output_type": "display_data"
    }
   ],
   "source": [
    "%%js\n",
    "\n",
    "let desserts = ['cake', 'ice cream', 'cookies', 'brownie', 'fudge', 'double chunk chocolate cookie']\n",
    "\n",
    "console.log(desserts.join(\", \"))"
   ]
  },
  {
   "cell_type": "markdown",
   "metadata": {},
   "source": [
    "# Popcorn Hacks 2"
   ]
  },
  {
   "cell_type": "code",
   "execution_count": 13,
   "metadata": {
    "vscode": {
     "languageId": "javascript"
    }
   },
   "outputs": [
    {
     "data": {
      "application/javascript": "// Create a variable called \"list\" or \"my_list_2\"\nlet list = [3, 7, 9, 21]; // Create a list of numbers in the brackets []\n\n// Create a const to store the length of the list\nconst length = list.length; \n\n// Print out the list\nconsole.log(list); \n\n// Print out the length of the list\nconsole.log(length); \n\n",
      "text/plain": [
       "<IPython.core.display.Javascript object>"
      ]
     },
     "metadata": {},
     "output_type": "display_data"
    }
   ],
   "source": [
    "%%js\n",
    "// Create a variable called \"list\" or \"my_list_2\"\n",
    "let list = [3, 7, 9, 21]; // Create a list of numbers in the brackets []\n",
    "\n",
    "// Create a const to store the length of the list\n",
    "const length = list.length; \n",
    "\n",
    "// Print out the list\n",
    "console.log(list); \n",
    "\n",
    "// Print out the length of the list\n",
    "console.log(length); \n",
    "\n"
   ]
  }
 ],
 "metadata": {
  "kernelspec": {
   "display_name": "Python 3",
   "language": "python",
   "name": "python3"
  },
  "language_info": {
   "codemirror_mode": {
    "name": "ipython",
    "version": 3
   },
   "file_extension": ".py",
   "mimetype": "text/x-python",
   "name": "python",
   "nbconvert_exporter": "python",
   "pygments_lexer": "ipython3",
   "version": "3.12.5"
  }
 },
 "nbformat": 4,
 "nbformat_minor": 2
}
