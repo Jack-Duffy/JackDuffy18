{
 "cells": [
  {
   "cell_type": "code",
   "execution_count": null,
   "metadata": {},
   "outputs": [],
   "source": [
    "---\n",
    "comments: True\n",
    "layout: post\n",
    "title: Iteration Homework\n",
    "description: Iterations HW\n",
    "permalink: /csse/javascript/fundamentals/iteration/hw\n",
    "categories: [CSSE JavaScript Fundamentals]\n",
    "author: Andrew Ge, Ishan Shrivastava, Pratheep Natarajan, and Ruhaan Bansal\n",
    "---  "
   ]
  },
  {
   "cell_type": "markdown",
   "metadata": {},
   "source": [
    "### Exercise 1: Multiplication Table\n",
    "##### Write a JavaScript program to print the multiplication table for a given number."
   ]
  },
  {
   "cell_type": "markdown",
   "metadata": {},
   "source": [
    "##### Example:\n",
    "##### Input: 3\n",
    "##### Output:\n",
    "##### 3 x 1 = 3\n",
    "##### 3 x 2 = 6\n",
    "##### ...\n",
    "##### 3 x 10 = 30"
   ]
  },
  {
   "cell_type": "code",
   "execution_count": 16,
   "metadata": {
    "vscode": {
     "languageId": "javascript"
    }
   },
   "outputs": [
    {
     "data": {
      "application/javascript": "function multiplicationTable(number) {\n    for (let n = 1; n <= 10; n++) {\n    \n    console.log (`${number} x ${n} = ${number * n}`);\n    }\n}\nmultiplicationTable(5)\n",
      "text/plain": [
       "<IPython.core.display.Javascript object>"
      ]
     },
     "metadata": {},
     "output_type": "display_data"
    }
   ],
   "source": [
    "%%js\n",
    "function multiplicationTable(number) {\n",
    "    for (let n = 1; n <= 10; n++) {\n",
    "    \n",
    "    console.log (`${number} x ${n} = ${number * n}`);\n",
    "    }\n",
    "}\n",
    "multiplicationTable(5)\n"
   ]
  },
  {
   "cell_type": "markdown",
   "metadata": {},
   "source": [
    "### Exercise 2: Nested Loops\n",
    "##### Write a JavaScript program using nested loops to generate the following pattern:"
   ]
  },
  {
   "cell_type": "markdown",
   "metadata": {},
   "source": [
    "##### Output:\n",
    "##### 0\n",
    "##### 00\n",
    "##### 000\n",
    "##### 0000\n",
    "##### 00000"
   ]
  },
  {
   "cell_type": "code",
   "execution_count": 23,
   "metadata": {
    "vscode": {
     "languageId": "javascript"
    }
   },
   "outputs": [
    {
     "data": {
      "application/javascript": "for (let n = 1; n <= 10; n++) {\n    let zeroes = \"\";\n        for (let i = 1; i <= n; i++) {\n    zeroes += \"0\";\n    }\n    \n    console.log(zeroes);\n}\n",
      "text/plain": [
       "<IPython.core.display.Javascript object>"
      ]
     },
     "metadata": {},
     "output_type": "display_data"
    }
   ],
   "source": [
    "%%js \n",
    "for (let n = 1; n <= 10; n++) {\n",
    "    let zeroes = \"\";\n",
    "        for (let i = 1; i <= n; i++) {\n",
    "    zeroes += \"0\";\n",
    "    }\n",
    "    \n",
    "    console.log(zeroes);\n",
    "}"
   ]
  },
  {
   "cell_type": "markdown",
   "metadata": {},
   "source": [
    "### Challenge Exercise: Prime Numbers\n",
    "##### Write a JavaScript program to print all prime numbers between 1 and 50."
   ]
  },
  {
   "cell_type": "code",
   "execution_count": 26,
   "metadata": {
    "vscode": {
     "languageId": "javascript"
    }
   },
   "outputs": [
    {
     "data": {
      "application/javascript": "function isPrime(number) {\n    if (number < 2) return false; \n    for (let i = 2; i <= Math.sqrt(number); i++) {\n        if (number % i === 0) {\n            return false; \n        }\n    }\n    return true; \n}\n\nfunction printPrimes(start, end) {\n    for (let num = start; num <= end; num++) {\n        if (isPrime(num)) {\n            console.log(num); \n        }\n    }\n}\n\nprintPrimes(1, 50);\n",
      "text/plain": [
       "<IPython.core.display.Javascript object>"
      ]
     },
     "metadata": {},
     "output_type": "display_data"
    }
   ],
   "source": [
    "%%js\n",
    "function isPrime(number) {\n",
    "    if (number < 2) return false; \n",
    "    for (let i = 2; i <= Math.sqrt(number); i++) {\n",
    "        if (number % i === 0) {\n",
    "            return false; \n",
    "        }\n",
    "    }\n",
    "    return true; \n",
    "}\n",
    "\n",
    "function printPrimes(start, end) {\n",
    "    for (let num = start; num <= end; num++) {\n",
    "        if (isPrime(num)) {\n",
    "            console.log(num); \n",
    "        }\n",
    "    }\n",
    "}\n",
    "\n",
    "printPrimes(1, 50);\n"
   ]
  },
  {
   "cell_type": "markdown",
   "metadata": {},
   "source": [
    "# End of Homework"
   ]
  }
 ],
 "metadata": {
  "kernelspec": {
   "display_name": "Python 3",
   "language": "python",
   "name": "python3"
  },
  "language_info": {
   "codemirror_mode": {
    "name": "ipython",
    "version": 3
   },
   "file_extension": ".py",
   "mimetype": "text/x-python",
   "name": "python",
   "nbconvert_exporter": "python",
   "pygments_lexer": "ipython3",
   "version": "3.12.5"
  }
 },
 "nbformat": 4,
 "nbformat_minor": 2
}
