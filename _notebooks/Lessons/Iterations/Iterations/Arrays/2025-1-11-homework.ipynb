{
 "cells": [
  {
   "cell_type": "markdown",
   "metadata": {},
   "source": [
    "# Homework!! #\n",
    "\n",
    "Your task is to fill in the following code to alter the arrays!"
   ]
  },
  {
   "cell_type": "markdown",
   "metadata": {},
   "source": [
    "# Lesson 1 Homework"
   ]
  },
  {
   "cell_type": "code",
   "execution_count": 3,
   "metadata": {
    "vscode": {
     "languageId": "javascript"
    }
   },
   "outputs": [
    {
     "data": {
      "application/javascript": "// We have an array made for you, but something's off...\nlet desserts = [\"lemon\", \"delete1\", \"ice cream\", \"chocolate cake\", \"key lime pie\", \"delete2\"];\n// We need to get rid of the elements labeled delete1 and delete2!\ndesserts.pop(); // Removes the last element (\"delete2\")\ndesserts.splice(1, 1); // Removes the element at index 1 (\"delete1\"), where 1 is the index, and 1 is the number of elements to remove\n\n// Now that that's done... a lemon isn't a dessert unless you're weird... maybe change it to a lemon-themed dessert?\ndesserts[0] = \"lemon tart\"; // Replace \"lemon\" at index 0 with a lemon-themed dessert\n\n// Okay okay, you've proven your skills... now all that's left is to print the list!\nconsole.log(desserts);\n",
      "text/plain": [
       "<IPython.core.display.Javascript object>"
      ]
     },
     "metadata": {},
     "output_type": "display_data"
    }
   ],
   "source": [
    "%%js\n",
    "// We have an array made for you, but something's off...\n",
    "let desserts = [\"lemon\", \"delete1\", \"ice cream\", \"chocolate cake\", \"key lime pie\", \"delete2\"];\n",
    "// We need to get rid of the elements labeled delete1 and delete2!\n",
    "desserts.pop(); // Removes the last element (\"delete2\")\n",
    "desserts.splice(1, 1); // Removes the element at index 1 (\"delete1\"), where 1 is the index, and 1 is the number of elements to remove\n",
    "\n",
    "// Now that that's done... a lemon isn't a dessert unless you're weird... maybe change it to a lemon-themed dessert?\n",
    "desserts[0] = \"lemon tart\"; // Replace \"lemon\" at index 0 with a lemon-themed dessert\n",
    "\n",
    "// Okay okay, you've proven your skills... now all that's left is to print the list!\n",
    "console.log(desserts);\n"
   ]
  },
  {
   "cell_type": "markdown",
   "metadata": {},
   "source": [
    "# Lesson 2 Homework - Part 1"
   ]
  },
  {
   "cell_type": "code",
   "execution_count": null,
   "metadata": {
    "vscode": {
     "languageId": "javascript"
    }
   },
   "outputs": [],
   "source": [
    "%%js\n",
    "// Create a list with a repeating element\n",
    "let list = [1, 2, 3, 1, 4, 3]; // Example list with repeating elements\n",
    "\n",
    "// Use a for loop to iterate through each element and print the index\n",
    "for (let i = 0; i < list.length; i++) {\n",
    "    console.log(`Element: ${list[i]}, Index: ${i}`);\n",
    "}\n",
    "\n",
    "// Print the index of the last occurring repeated value\n",
    "let lastIndex = list.lastIndexOf(3); // Replace 3 with the repeating element you want to find\n",
    "console.log(`The last occurrence of the repeated value is at index: ${lastIndex}`);\n"
   ]
  },
  {
   "cell_type": "markdown",
   "metadata": {},
   "source": [
    "# Lesson 2 Homework - Part 2"
   ]
  },
  {
   "cell_type": "code",
   "execution_count": 4,
   "metadata": {
    "vscode": {
     "languageId": "javascript"
    }
   },
   "outputs": [
    {
     "data": {
      "application/javascript": "// Create a list here that includes whatever you'd like once again.\nlet myList = [\"apple\", \"banana\", \"cherry\", \"date\", \"elderberry\"];\n\n// Now, print the length of your list!\nconsole.log(myList.length); // Prints the length of the list\n\n// Finally, create a variable to check if a value in your list is included in the list and print that variable.\nlet isIncluded = myList.includes(\"cherry\"); // Check if \"cherry\" is in the list\nconsole.log(isIncluded); // Outputs true or false\n",
      "text/plain": [
       "<IPython.core.display.Javascript object>"
      ]
     },
     "metadata": {},
     "output_type": "display_data"
    }
   ],
   "source": [
    "%%js\n",
    "// Create a list here that includes whatever you'd like once again.\n",
    "let myList = [\"apple\", \"banana\", \"cherry\", \"date\", \"elderberry\"];\n",
    "\n",
    "// Now, print the length of your list!\n",
    "console.log(myList.length); // Prints the length of the list\n",
    "\n",
    "// Finally, create a variable to check if a value in your list is included in the list and print that variable.\n",
    "let isIncluded = myList.includes(\"cherry\"); // Check if \"cherry\" is in the list\n",
    "console.log(isIncluded); // Outputs true or false\n"
   ]
  },
  {
   "cell_type": "markdown",
   "metadata": {
    "vscode": {
     "languageId": "javascript"
    }
   },
   "source": [
    "You're done with your homework!!"
   ]
  }
 ],
 "metadata": {
  "kernelspec": {
   "display_name": "Python 3",
   "language": "python",
   "name": "python3"
  },
  "language_info": {
   "codemirror_mode": {
    "name": "ipython",
    "version": 3
   },
   "file_extension": ".py",
   "mimetype": "text/x-python",
   "name": "python",
   "nbconvert_exporter": "python",
   "pygments_lexer": "ipython3",
   "version": "3.12.5"
  }
 },
 "nbformat": 4,
 "nbformat_minor": 2
}
